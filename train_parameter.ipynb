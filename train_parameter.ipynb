{
 "cells": [
  {
   "cell_type": "code",
   "execution_count": null,
   "id": "9e1e03f3",
   "metadata": {},
   "outputs": [],
   "source": [
    "import numpy as np\n",
    "import torch\n",
    "from torch.utils.data import DataLoader\n",
    "import matplotlib.pyplot as plt\n",
    "from typing import List, Optional, Tuple\n"
   ]
  },
  {
   "cell_type": "code",
   "execution_count": null,
   "id": "5b2b6b68",
   "metadata": {},
   "outputs": [],
   "source": [
    "from starccato_flow.data.toy_data import ToyData\n",
    "from starccato_flow.data.ccsn_data import CCSNData\n",
    "from starccato_flow.training.trainer import Trainer\n",
    "\n",
    "from starccato_flow.plotting.plotting import plot_reconstruction"
   ]
  },
  {
   "cell_type": "code",
   "execution_count": null,
   "id": "903c3775",
   "metadata": {},
   "outputs": [],
   "source": [
    "from starccato_flow.utils.defaults import DEVICE"
   ]
  },
  {
   "cell_type": "markdown",
   "id": "7e48f1cf",
   "metadata": {},
   "source": [
    "### Dataset"
   ]
  },
  {
   "cell_type": "code",
   "execution_count": null,
   "id": "f3ded9b0",
   "metadata": {},
   "outputs": [],
   "source": [
    "# train_dataset = ToyData(num_signals=1684, signal_length=256)\n",
    "# validation_dataset = ToyData(num_signals=round(1684 * 0.1), signal_length=256)"
   ]
  },
  {
   "cell_type": "markdown",
   "id": "9bd3161a",
   "metadata": {},
   "source": [
    "### Dataset Plots"
   ]
  },
  {
   "cell_type": "code",
   "execution_count": null,
   "id": "1ead9b8d",
   "metadata": {},
   "outputs": [],
   "source": [
    "ccsn_dataset = CCSNData(noise=True, curriculum=False)\n",
    "ccsn_dataset.plot_signal_distribution(background=\"black\", font_family=\"sans-serif\", font_name=\"Avenir\", fname=\"plots/ccsn_signal_distribution.svg\")"
   ]
  },
  {
   "cell_type": "code",
   "execution_count": null,
   "id": "c3d44d6c",
   "metadata": {},
   "outputs": [],
   "source": [
    "ccsn_dataset.plot_signal_grid(background=\"white\", font_family=\"sans-serif\", font_name=\"Avenir\", fname=\"plots/ccsn_signal_grid.svg\")"
   ]
  },
  {
   "cell_type": "code",
   "execution_count": null,
   "id": "9ea3e243",
   "metadata": {},
   "outputs": [],
   "source": [
    "toy=False"
   ]
  },
  {
   "cell_type": "markdown",
   "id": "c301ffdb",
   "metadata": {},
   "source": [
    "### Train VAE + Flow"
   ]
  },
  {
   "cell_type": "code",
   "execution_count": null,
   "id": "9e65b823",
   "metadata": {},
   "outputs": [],
   "source": [
    "vae_trainer = Trainer(toy=toy, noise=False, curriculum=False, vae_parameter_test=True)\n",
    "vae_trainer.train()"
   ]
  },
  {
   "cell_type": "markdown",
   "id": "b33107ed",
   "metadata": {},
   "source": [
    "### Display Results"
   ]
  },
  {
   "cell_type": "code",
   "execution_count": null,
   "id": "24ba75cb",
   "metadata": {},
   "outputs": [],
   "source": [
    "vae_trainer.display_results()"
   ]
  },
  {
   "cell_type": "code",
   "execution_count": null,
   "id": "ad9ebf47",
   "metadata": {},
   "outputs": [],
   "source": [
    "# plot_latent_morph_up_and_down(\n",
    "#     vae_trainer.vae,\n",
    "#     signal_1=ccsn_dataset.__getitem__(800)[0],\n",
    "#     signal_2=ccsn_dataset.__getitem__(600)[0],\n",
    "#     max_value=vae_trainer.training_dataset.max_strain,\n",
    "#     train_dataset=CCSNData(),\n",
    "#     steps=1\n",
    "# )"
   ]
  },
  {
   "cell_type": "code",
   "execution_count": null,
   "id": "760c9620",
   "metadata": {},
   "outputs": [],
   "source": [
    "from starccato_flow.plotting.plotting import plot_reconstruction_distribution\n",
    "plot_reconstruction_distribution(\n",
    "    vae_trainer.vae,\n",
    "    signal=vae_trainer.training_dataset.__getitem__(1000)[0],\n",
    "    max_value=vae_trainer.training_dataset.max_strain,\n",
    "    num_samples=1000,\n",
    "    background=\"white\",\n",
    "    font_family=\"sans-serif\",\n",
    "    font_name=\"Avenir\",\n",
    "    fname=\"plots/ccsn_reconstructions.svg\"\n",
    ")"
   ]
  }
 ],
 "metadata": {
  "kernelspec": {
   "display_name": ".venv",
   "language": "python",
   "name": "python3"
  },
  "language_info": {
   "codemirror_mode": {
    "name": "ipython",
    "version": 3
   },
   "file_extension": ".py",
   "mimetype": "text/x-python",
   "name": "python",
   "nbconvert_exporter": "python",
   "pygments_lexer": "ipython3",
   "version": "3.9.6"
  }
 },
 "nbformat": 4,
 "nbformat_minor": 5
}

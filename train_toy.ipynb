{
 "cells": [
  {
   "cell_type": "code",
   "execution_count": 1,
   "id": "9e1e03f3",
   "metadata": {},
   "outputs": [],
   "source": [
    "import numpy as np\n",
    "import torch\n",
    "from torch.utils.data import DataLoader"
   ]
  },
  {
   "cell_type": "code",
   "execution_count": 2,
   "id": "79ed8235",
   "metadata": {},
   "outputs": [],
   "source": [
    "# from starccato_flow.plotting.plotting import (\n",
    "#     plot_loss,\n",
    "#     plot_individual_loss,\n",
    "#     plot_training_validation_loss,\n",
    "#     plot_reconstruction,\n",
    "#     plot_waveform_grid,\n",
    "#     plot_latent_morphs,\n",
    "#     animate_latent_morphs,\n",
    "#     plot_signal_distribution,\n",
    "#     plot_single_signal,\n",
    "# )"
   ]
  },
  {
   "cell_type": "code",
   "execution_count": 3,
   "id": "5b2b6b68",
   "metadata": {},
   "outputs": [
    {
     "name": "stderr",
     "output_type": "stream",
     "text": [
      "/Users/tarineccleston/Desktop/starccato/starccato-flow/.venv/lib/python3.9/site-packages/tqdm/auto.py:21: TqdmWarning: IProgress not found. Please update jupyter and ipywidgets. See https://ipywidgets.readthedocs.io/en/stable/user_install.html\n",
      "  from .autonotebook import tqdm as notebook_tqdm\n",
      "/Users/tarineccleston/Desktop/starccato/starccato-flow/.venv/lib/python3.9/site-packages/urllib3/__init__.py:35: NotOpenSSLWarning: urllib3 v2 only supports OpenSSL 1.1.1+, currently the 'ssl' module is compiled with 'LibreSSL 2.8.3'. See: https://github.com/urllib3/urllib3/issues/3020\n",
      "  warnings.warn(\n"
     ]
    }
   ],
   "source": [
    "from starccato_flow.data.toy_data import ToyData\n",
    "from starccato_flow.data.ccsn_data import CCSNData\n",
    "from starccato_flow.training.trainer import Trainer"
   ]
  },
  {
   "cell_type": "markdown",
   "id": "7e48f1cf",
   "metadata": {},
   "source": [
    "### Toy Dataset"
   ]
  },
  {
   "cell_type": "code",
   "execution_count": 4,
   "id": "f3ded9b0",
   "metadata": {},
   "outputs": [],
   "source": [
    "train_dataset = ToyData(num_signals=1684, signal_length=256)\n",
    "validation_dataset = ToyData(num_signals=round(1684 * 0.1), signal_length=256)"
   ]
  },
  {
   "cell_type": "markdown",
   "id": "9bd3161a",
   "metadata": {},
   "source": [
    "### Toy Dataset Plots"
   ]
  },
  {
   "cell_type": "markdown",
   "id": "c301ffdb",
   "metadata": {},
   "source": [
    "### Train VAE + Flow"
   ]
  },
  {
   "cell_type": "code",
   "execution_count": 5,
   "id": "9e65b823",
   "metadata": {},
   "outputs": [
    {
     "ename": "AttributeError",
     "evalue": "'Trainer' object has no attribute 'lr_flow'",
     "output_type": "error",
     "traceback": [
      "\u001b[0;31m---------------------------------------------------------------------------\u001b[0m",
      "\u001b[0;31mAttributeError\u001b[0m                            Traceback (most recent call last)",
      "Cell \u001b[0;32mIn[5], line 1\u001b[0m\n\u001b[0;32m----> 1\u001b[0m vae_trainer \u001b[38;5;241m=\u001b[39m \u001b[43mTrainer\u001b[49m\u001b[43m(\u001b[49m\u001b[43mtoy\u001b[49m\u001b[38;5;241;43m=\u001b[39;49m\u001b[38;5;28;43;01mTrue\u001b[39;49;00m\u001b[43m)\u001b[49m\n\u001b[1;32m      2\u001b[0m vae_trainer\u001b[38;5;241m.\u001b[39mtrain()\n",
      "File \u001b[0;32m~/Desktop/starccato/starccato-flow/src/starccato_flow/training/trainer.py:79\u001b[0m, in \u001b[0;36mTrainer.__init__\u001b[0;34m(self, y_length, hidden_dim, z_dim, seed, batch_size, num_epochs, lr_vae, lr_flow, checkpoint_interval, outdir, toy)\u001b[0m\n\u001b[1;32m     74\u001b[0m \u001b[38;5;66;03m# setup optimisers\u001b[39;00m\n\u001b[1;32m     75\u001b[0m \u001b[38;5;28mself\u001b[39m\u001b[38;5;241m.\u001b[39moptimizerVAE \u001b[38;5;241m=\u001b[39m optim\u001b[38;5;241m.\u001b[39mAdam(\n\u001b[1;32m     76\u001b[0m     \u001b[38;5;28mself\u001b[39m\u001b[38;5;241m.\u001b[39mvae\u001b[38;5;241m.\u001b[39mparameters(), lr\u001b[38;5;241m=\u001b[39m\u001b[38;5;28mself\u001b[39m\u001b[38;5;241m.\u001b[39mlr_vae\n\u001b[1;32m     77\u001b[0m )\n\u001b[1;32m     78\u001b[0m \u001b[38;5;28mself\u001b[39m\u001b[38;5;241m.\u001b[39moptimizerFlow \u001b[38;5;241m=\u001b[39m optim\u001b[38;5;241m.\u001b[39mAdam(\n\u001b[0;32m---> 79\u001b[0m     \u001b[38;5;28mself\u001b[39m\u001b[38;5;241m.\u001b[39mflow\u001b[38;5;241m.\u001b[39mparameters(), lr\u001b[38;5;241m=\u001b[39m\u001b[38;5;28;43mself\u001b[39;49m\u001b[38;5;241;43m.\u001b[39;49m\u001b[43mlr_flow\u001b[49m\n\u001b[1;32m     80\u001b[0m )\n\u001b[1;32m     82\u001b[0m \u001b[38;5;28mself\u001b[39m\u001b[38;5;241m.\u001b[39mfixed_noise \u001b[38;5;241m=\u001b[39m torch\u001b[38;5;241m.\u001b[39mrandn(batch_size, z_dim, \u001b[38;5;241m1\u001b[39m, device\u001b[38;5;241m=\u001b[39mDEVICE)\n\u001b[1;32m     84\u001b[0m \u001b[38;5;28mself\u001b[39m\u001b[38;5;241m.\u001b[39mtrain_metadata: TrainMetadata \u001b[38;5;241m=\u001b[39m TrainMetadata()\n",
      "\u001b[0;31mAttributeError\u001b[0m: 'Trainer' object has no attribute 'lr_flow'"
     ]
    }
   ],
   "source": [
    "vae_trainer = Trainer(toy=True)\n",
    "vae_trainer.train()"
   ]
  },
  {
   "cell_type": "markdown",
   "id": "b33107ed",
   "metadata": {},
   "source": [
    "### Display Results"
   ]
  }
 ],
 "metadata": {
  "kernelspec": {
   "display_name": ".venv",
   "language": "python",
   "name": "python3"
  },
  "language_info": {
   "codemirror_mode": {
    "name": "ipython",
    "version": 3
   },
   "file_extension": ".py",
   "mimetype": "text/x-python",
   "name": "python",
   "nbconvert_exporter": "python",
   "pygments_lexer": "ipython3",
   "version": "3.9.6"
  }
 },
 "nbformat": 4,
 "nbformat_minor": 5
}
